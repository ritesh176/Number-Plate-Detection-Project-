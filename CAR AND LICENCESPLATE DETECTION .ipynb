{
 "cells": [
  {
   "cell_type": "markdown",
   "id": "d89dc0c4",
   "metadata": {},
   "source": [
    "# Car detection And Licenseplate Detection"
   ]
  },
  {
   "cell_type": "code",
   "execution_count": null,
   "id": "63ac27a2",
   "metadata": {},
   "outputs": [],
   "source": [
    "import cv2\n",
    "import time \n",
    "import numpy as np\n",
    "\n",
    "#Create our body classifier \n",
    "car_classifier= cv2.CascadeClassifier(r\"D:\\Data science\\Daily Pratice set\\may\\12may\\Haarcascades\\haarcascade_car.xml\")\n",
    "licenseplate_classifier=cv2.CascadeClassifier(r\"C:\\Users\\rites\\Downloads\\haarcascade_license_plate_rus_16stages.xml\")\n",
    "#Initiate video capture for video file\n",
    "cap= cv2.VideoCapture(r\"C:\\Users\\rites\\Downloads\\License Plate Detection Test.mp4\")\n",
    "\n",
    "#loop once video is successfully loaded\n",
    "while cap.isOpened():\n",
    "    \n",
    "    time.sleep(.05)\n",
    "    #Read first frame\n",
    "    ret, frame=cap.read()\n",
    "    gray=cv2.cvtColor(frame, cv2.COLOR_BGR2GRAY)\n",
    "    \n",
    "    cars=car_classifier.detectMultiScale(gray, 1.4, 2)\n",
    "    licenseplate=licenseplate_classifier.detectMultiScale(gray, 1.4, 2)\n",
    "    #Extract bounding boxes for any bodies identified\n",
    "    for (x,y,w,h) in cars:\n",
    "        cv2.rectangle(frame, (x,y), (x+w, y+h), (0,255,255),2)\n",
    "        cv2.imshow('cars', frame)\n",
    "        \n",
    "    for (ex,ey,ew,eh) in licenseplate:\n",
    "        cv2.rectangle(frame,(ex,ey), (ex+ew,ey+eh),(255,255,0),2)\n",
    "        frame[ey:ey + eh,ex:ex + ew]=cv2.blur(frame[ey:ey + eh,ex:ex +ew],ksize=(10,10))\n",
    "        cv2.putText(frame,text=\"License Plate\",org=(ex-3,ey-3), fontFace=cv2.FONT_HERSHEY_COMPLEX,color=(0,255,255),\n",
    "                    thickness=1,fontScale=0.6)\n",
    "        \n",
    "        cv2.imshow('licenseplate',frame)\n",
    "    if cv2.waitKey(10)==13:\n",
    "        break\n",
    "        \n",
    "cap.release()\n",
    "cv2.destroyAllWindows()\n",
    "    "
   ]
  },
  {
   "cell_type": "code",
   "execution_count": null,
   "id": "9fd5adae",
   "metadata": {},
   "outputs": [],
   "source": []
  },
  {
   "cell_type": "code",
   "execution_count": null,
   "id": "9499adf4",
   "metadata": {},
   "outputs": [],
   "source": []
  }
 ],
 "metadata": {
  "kernelspec": {
   "display_name": "Python 3 (ipykernel)",
   "language": "python",
   "name": "python3"
  },
  "language_info": {
   "codemirror_mode": {
    "name": "ipython",
    "version": 3
   },
   "file_extension": ".py",
   "mimetype": "text/x-python",
   "name": "python",
   "nbconvert_exporter": "python",
   "pygments_lexer": "ipython3",
   "version": "3.9.13"
  }
 },
 "nbformat": 4,
 "nbformat_minor": 5
}
